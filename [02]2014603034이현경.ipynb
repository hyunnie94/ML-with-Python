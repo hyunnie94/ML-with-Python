{
 "cells": [
  {
   "cell_type": "markdown",
   "metadata": {},
   "source": [
    "## 선형회귀모델"
   ]
  },
  {
   "cell_type": "markdown",
   "metadata": {},
   "source": [
    " * 훈련 방법 \n",
    "  * 최소자승법 이용 -> 모델의 parameter를 해석적으로 구한다\n",
    "  * 경사하강법 이용 -> 모델 parameter를 조금씩 바꾸면서 비용을 최소화"
   ]
  },
  {
   "cell_type": "markdown",
   "metadata": {},
   "source": [
    "* 선형 회귀 모델 ->  feature에 대한 선형함수 만들어 예측\n",
    " * 예측함수 : y^=w[0]* x[0]+ ...+w[p]* x[p] + b -> 입력 특성에 w(가중치)를 곱해서 더한 가중치의 선형 결합\n",
    " * (x[i] 는 feature의 각 성분, w,b는 모델이 학습할 매개변수, y^는 예측값)"
   ]
  },
  {
   "cell_type": "markdown",
   "metadata": {},
   "source": [
    " * 뉴런의 모델(perceptron)\n",
    "  * 분류\n",
    "    * y^ >0 -> output:1\n",
    "    * y^ <0 -> output:-1\n",
    "  * 선형결합\n",
    "    * 값 자체를 이용\n",
    "  * 입력특성이 1개라면, y^= w[0] * x[0] + b. 특성이 많아지면 각 특성에 해당하는 기울기를 가진다.\n",
    "  * 카이제곱값이 최소가 되는 m과 b의 값을 찾는 것\n",
    "  * 입력 특성의 가중치 합 + 편향(bias)(theta)\n",
    "  * y^ = h(x) = theta^T * X\n",
    "  * 훈련시키기\n",
    "    * 파라미터 : 평균제곱오차(RMSE).\n",
    "    * RMSE(혹은 MSE)를 최소화하는 theta를 찾는 것\n",
    "    * normal equation = MSE(theta) = 0이 되는 theta를 찾는 식\n",
    "  "
   ]
  },
  {
   "cell_type": "markdown",
   "metadata": {},
   "source": [
    "* 다층신경망"
   ]
  },
  {
   "cell_type": "code",
   "execution_count": 1,
   "metadata": {},
   "outputs": [],
   "source": [
    "import numpy as np\n",
    "\n",
    "X = 2 * np.random.rand(100, 1)       #100개의 1차원 데이터를 랜덤 추출\n",
    "y = 4 + 3 * X + np.random.randn(100, 1) "
   ]
  },
  {
   "cell_type": "code",
   "execution_count": 2,
   "metadata": {},
   "outputs": [],
   "source": [
    "import matplotlib.pyplot as plt"
   ]
  },
  {
   "cell_type": "code",
   "execution_count": 3,
   "metadata": {},
   "outputs": [
    {
     "data": {
      "image/png": "[encoded data removed]",
      "text/plain": [
       "<Figure size 432x288 with 1 Axes>"
      ]
     },
     "metadata": {},
     "output_type": "display_data"
    }
   ],
   "source": [
    "plt.plot(X, y, \"b. \")\n",
    "plt.xlabel(\"$x_1$\", fontsize=18)\n",
    "plt.ylabel(\"$y$\", rotation=0, fontsize=18)\n",
    "plt.axis([0, 2, 0, 15])\n",
    "plt.show()"
   ]
  },
  {
   "cell_type": "code",
   "execution_count": null,
   "metadata": {},
   "outputs": [],
   "source": [
    "#정규방정식을 사용해 theta를 구하자"
   ]
  },
  {
   "cell_type": "code",
   "execution_count": 4,
   "metadata": {},
   "outputs": [],
   "source": [
    "import numpy.linalg"
   ]
  },
  {
   "cell_type": "code",
   "execution_count": 6,
   "metadata": {},
   "outputs": [],
   "source": [
    "X_b = np.c_[np.ones((100, 1)), X]    #모든 샘플에 x0=1 을 추가합니다.\n",
    "theta_best = np.linalg.inv(X_b.T.dot(X_b)).dot(X_b.T).dot(y)\n",
    "#선형 대수 모델의 inv() 함수 : 역행렬 구하기\n",
    "# dot() 함수 : 내적 계산"
   ]
  },
  {
   "cell_type": "code",
   "execution_count": 7,
   "metadata": {},
   "outputs": [
    {
     "data": {
      "text/plain": [
       "array([[3.95568703],\n",
       "       [2.99156383]])"
      ]
     },
     "execution_count": 7,
     "metadata": {},
     "output_type": "execute_result"
    }
   ],
   "source": [
    "theta_best"
   ]
  },
  {
   "cell_type": "code",
   "execution_count": 8,
   "metadata": {},
   "outputs": [
    {
     "data": {
      "text/plain": [
       "array([[3.95568703],\n",
       "       [9.93881469]])"
      ]
     },
     "execution_count": 8,
     "metadata": {},
     "output_type": "execute_result"
    }
   ],
   "source": [
    "X_new = np.array([[0], [2]])\n",
    "X_new_b = np.c_[np.ones((2, 1)), X_new]   #모든 샘플에 x0 = 1 를 추가합니다.\n",
    "y_predict = X_new_b.dot(theta_best)\n",
    "y_predict"
   ]
  },
  {
   "cell_type": "code",
   "execution_count": 9,
   "metadata": {},
   "outputs": [
    {
     "data": {
      "image/png": "[encoded data removed]",
      "text/plain": [
       "<Figure size 432x288 with 1 Axes>"
      ]
     },
     "metadata": {},
     "output_type": "display_data"
    }
   ],
   "source": [
    "#모델 예측 그래프\n",
    "plt.plot(X_new, y_predict, \"r-\", linewidth=2, label=\"예측\") #예측선 (빨간색)\n",
    "plt.plot(X, y, \"b.\")       #원래 데이터 (파란색)\n",
    "plt.xlabel(\"$x_1$\", fontsize=18)\n",
    "plt.ylabel(\"$y$\", rotation=0, fontsize=14)\n",
    "plt.axis([0, 2, 0, 15])\n",
    "plt.show()"
   ]
  },
  {
   "cell_type": "code",
   "execution_count": null,
   "metadata": {},
   "outputs": [],
   "source": [
    "#같은 작업을 사이킷런 코드로"
   ]
  },
  {
   "cell_type": "code",
   "execution_count": 11,
   "metadata": {},
   "outputs": [
    {
     "data": {
      "text/plain": [
       "(array([3.95568703]), array([[2.99156383]]))"
      ]
     },
     "execution_count": 11,
     "metadata": {},
     "output_type": "execute_result"
    }
   ],
   "source": [
    "from sklearn.linear_model import LinearRegression\n",
    "lin_reg = LinearRegression()\n",
    "lin_reg.fit(X,y)\n",
    "lin_reg.intercept_, lin_reg.coef_"
   ]
  },
  {
   "cell_type": "code",
   "execution_count": 12,
   "metadata": {},
   "outputs": [
    {
     "data": {
      "text/plain": [
       "array([[3.95568703],\n",
       "       [9.93881469]])"
      ]
     },
     "execution_count": 12,
     "metadata": {},
     "output_type": "execute_result"
    }
   ],
   "source": [
    "lin_reg.predict(X_new)"
   ]
  },
  {
   "cell_type": "markdown",
   "metadata": {},
   "source": [
    "## 경사하강법"
   ]
  },
  {
   "cell_type": "markdown",
   "metadata": {},
   "source": [
    " * 특성이 매우 많고 훈련 샘플이 너무 많을 때 적합(그만큼 한계도 존재)\n",
    " * 파라미터를 조정하여 비용함수를 최소화\n",
    "  * 비용함수가 가장 빨리 감소하는 방향으로 파라미터 조정\n",
    "  * 비용함수의 그래디언트 이용\n",
    " * 방법\n",
    "  * 무작위 초기화 : theta를 임의의 값으로 시작\n",
    "  * 한번에 조금씩 비용함수가 감소되는 방향으로 진행\n",
    "  * 최솟값에 수렴할 때까지 점진적으로 비용함수 감소시킴\n",
    " * 훈련시키기\n",
    "  * 파라미터 : 학습률(learning rate) = 스탭의 크기\n",
    "  * 문제점 : 모든 비용함수가 볼록함수가 아니다!(예를 들어 다층신경망)  -> 최소값을 잘못 구할 수 있다.\n",
    "  * 해결 : 모든 특성이 같은 스케일을 갖도록 만들어야함. -> StandardScaler 사용"
   ]
  },
  {
   "cell_type": "markdown",
   "metadata": {},
   "source": [
    "### 배치 경사 하강법"
   ]
  },
  {
   "cell_type": "markdown",
   "metadata": {},
   "source": [
    " * 전체 훈련 세트 X에 대해 계산.\n",
    " * 매우 큰 훈련세트에서는 느릴 수 있음\n",
    " * but 정규방정식 < 경사하강법\n",
    " * 그래디언트 벡터 : 가장 빨리 증가하는 방향이므로 반대방향으로 theta를 움직여야. 여기서 학습률(에타)가 사용.\n",
    " * theta(next step) = theta - eta * MSE(theta)"
   ]
  },
  {
   "cell_type": "code",
   "execution_count": 13,
   "metadata": {},
   "outputs": [],
   "source": [
    "eta = 0.1\n",
    "n_iterations = 1000\n",
    "m = 100\n",
    "theta = np.random.randn(2,1) #무작위 초기화\n",
    "\n",
    "for iteration in range(n_iterations):\n",
    "    gradients = 2/m * X_b.T.dot(X_b.dot(theta) - y)\n",
    "    theta = theta - eta * gradients"
   ]
  },
  {
   "cell_type": "code",
   "execution_count": 14,
   "metadata": {},
   "outputs": [
    {
     "data": {
      "text/plain": [
       "array([[3.95568703],\n",
       "       [2.99156383]])"
      ]
     },
     "execution_count": 14,
     "metadata": {},
     "output_type": "execute_result"
    }
   ],
   "source": [
    "theta       #정규방정식과 일치"
   ]
  },
  {
   "cell_type": "markdown",
   "metadata": {},
   "source": [
    " * 반복횟수는 크게 지정했다가 그래디언트 벡터의 크기가 충분히 작아지면 알고리즘 중지"
   ]
  },
  {
   "cell_type": "markdown",
   "metadata": {},
   "source": [
    "### 확률적 경사 하강법"
   ]
  },
  {
   "cell_type": "markdown",
   "metadata": {},
   "source": [
    " * 매 스탭마다 딱 한개의 샘플을 무작위로 선택하고 그 한 샘플의 에러(MSE)를 theta에 대해 편미분(그래디언트)을 계산\n",
    " * 확률적이므로 배치 경사 하강법 보다 불안정\n",
    " * 적은 데이터 사용으로 알고리즘이 빠름\n",
    " * 최적값까지 단조감소 하지 않고 요동치면서 평균적으로 감소 -> 장점일수도 단점일수도"
   ]
  },
  {
   "cell_type": "markdown",
   "metadata": {},
   "source": [
    " * 무작위성 :\n",
    "   * 지역 최솟값 탈출을 돕지만 전역 최솟값에 다다르지 못하게도 함\n",
    "   * 해결 : 학습률을 점진적으로 감소 -> 전역 최솟값에 도달하도록."
   ]
  },
  {
   "cell_type": "code",
   "execution_count": 15,
   "metadata": {},
   "outputs": [],
   "source": [
    "n_epochs = 50  #훈련세트 샘플 수 만큼의 각 반복 = epoch\n",
    "t0, t1 = 5, 50  # learning schedule hyperparameters\n",
    "\n",
    "def learning_schedule(t):  \n",
    "    return t0 / (t + t1)\n",
    "#여기서는 50번 반복하고도 좋은 값에 도달함을 본다 "
   ]
  },
  {
   "cell_type": "markdown",
   "metadata": {},
   "source": [
    " * 학습 스케줄( learning schedule) : 매 반복에서 학습률을 결정\n",
    " * 학습률이 너무 빨리 줄면 지역 최솟값에 갇히거나 가다 멈출 수 있음\n",
    " * 너무 천천히 줄면 오랫동안 최소 주변을 맴돌거나 너무 일찍 중지하여 지역 최솟값에 머물 수 있음"
   ]
  },
  {
   "cell_type": "code",
   "execution_count": 16,
   "metadata": {},
   "outputs": [],
   "source": [
    "theta = np.random.randn(2,1)     #random initialization"
   ]
  },
  {
   "cell_type": "code",
   "execution_count": 17,
   "metadata": {},
   "outputs": [],
   "source": [
    "for epoch in range(n_epochs):\n",
    "    for i in range(m):\n",
    "        random_index = np.random.randint(m)\n",
    "        xi = X_b[random_index:random_index+1]\n",
    "        yi = y[random_index:random_index+1]\n",
    "        gradients = 2 * xi.T.dot(xi.dot(theta) - yi)\n",
    "        eta = learning_schedule(epoch * m + i)\n",
    "        theta = theta - eta * gradients\n",
    "        "
   ]
  },
  {
   "cell_type": "code",
   "execution_count": 18,
   "metadata": {},
   "outputs": [
    {
     "name": "stderr",
     "output_type": "stream",
     "text": [
      "C:\\Users\\digus\\Anaconda3\\lib\\site-packages\\sklearn\\linear_model\\stochastic_gradient.py:117: DeprecationWarning: n_iter parameter is deprecated in 0.19 and will be removed in 0.21. Use max_iter and tol instead.\n",
      "  DeprecationWarning)\n"
     ]
    },
    {
     "data": {
      "text/plain": [
       "SGDRegressor(alpha=0.0001, average=False, epsilon=0.1, eta0=0.1,\n",
       "       fit_intercept=True, l1_ratio=0.15, learning_rate='invscaling',\n",
       "       loss='squared_loss', max_iter=None, n_iter=50, penalty=None,\n",
       "       power_t=0.25, random_state=42, shuffle=True, tol=None, verbose=0,\n",
       "       warm_start=False)"
      ]
     },
     "execution_count": 18,
     "metadata": {},
     "output_type": "execute_result"
    }
   ],
   "source": [
    "from sklearn.linear_model import SGDRegressor\n",
    "sgd_reg = SGDRegressor( n_iter=50, penalty=None, eta0=0.1, random_state=42)\n",
    "sgd_reg.fit(X,y.ravel())             # ravel 함수 이용 -> 1차원 배열로 평평하게 펴줌\n",
    "\n",
    "# eta0 = 초기 학습률, n_iter = epoch 수\n",
    "# 기본 학습 스케줄 공식 = eta0/t^(a)     ( t : 반복횟수, a = 0.25)"
   ]
  },
  {
   "cell_type": "code",
   "execution_count": 19,
   "metadata": {},
   "outputs": [
    {
     "data": {
      "text/plain": [
       "(array([3.87906296]), array([2.89671107]))"
      ]
     },
     "execution_count": 19,
     "metadata": {},
     "output_type": "execute_result"
    }
   ],
   "source": [
    "sgd_reg.intercept_, sgd_reg.coef_"
   ]
  },
  {
   "cell_type": "code",
   "execution_count": null,
   "metadata": {},
   "outputs": [],
   "source": []
  },
  {
   "cell_type": "code",
   "execution_count": null,
   "metadata": {},
   "outputs": [],
   "source": []
  },
  {
   "cell_type": "code",
   "execution_count": null,
   "metadata": {},
   "outputs": [],
   "source": []
  },
  {
   "cell_type": "code",
   "execution_count": null,
   "metadata": {},
   "outputs": [],
   "source": []
  },
  {
   "cell_type": "code",
   "execution_count": null,
   "metadata": {},
   "outputs": [],
   "source": []
  },
  {
   "cell_type": "code",
   "execution_count": null,
   "metadata": {},
   "outputs": [],
   "source": []
  },
  {
   "cell_type": "code",
   "execution_count": null,
   "metadata": {},
   "outputs": [],
   "source": []
  },
  {
   "cell_type": "code",
   "execution_count": null,
   "metadata": {},
   "outputs": [],
   "source": []
  }
 ],
 "metadata": {
  "kernelspec": {
   "display_name": "Python 3",
   "language": "python",
   "name": "python3"
  },
  "language_info": {
   "codemirror_mode": {
    "name": "ipython",
    "version": 3
   },
   "file_extension": ".py",
   "mimetype": "text/x-python",
   "name": "python",
   "nbconvert_exporter": "python",
   "pygments_lexer": "ipython3",
   "version": "3.6.5"
  }
 },
 "nbformat": 4,
 "nbformat_minor": 2
}
